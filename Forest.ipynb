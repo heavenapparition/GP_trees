{
 "cells": [
  {
   "cell_type": "code",
   "execution_count": 1,
   "id": "initial_id",
   "metadata": {
    "collapsed": true,
    "ExecuteTime": {
     "end_time": "2024-05-26T19:57:51.027533200Z",
     "start_time": "2024-05-26T19:57:42.209215Z"
    }
   },
   "outputs": [],
   "source": [
    "\n",
    "from sklearn.model_selection import train_test_split\n",
    "from sklearn.datasets import load_diabetes\n",
    "import pandas as pd\n",
    "import warnings\n",
    "from sklearn.metrics import mean_squared_error\n",
    "from sklearn.preprocessing import StandardScaler\n",
    "from genepro.scikit import GeneProRegressor\n",
    "from genepro.bagging import Bagging\n",
    "\n",
    "from genepro.node_impl import *\n",
    "from joblib import cpu_count\n",
    "from genepro.util import compute_linear_scaling\n",
    "from ensembles.GPforest import GPForestRegressor\n",
    "from ensembles.GPBoosting import GPGBRegressor\n",
    "import sympy\n",
    "from scipy.stats import pearsonr\n",
    "df = pd.read_csv('data/markers_filtered_adj_imp.csv', index_col=0)\n",
    "targets = pd.read_csv('data/pheno_full_adj.csv', index_col=0)\n",
    "df.index = [i for i in range(len(df))]\n",
    "targets.index = [i for i in range(len(targets))]\n",
    "warnings.filterwarnings(\"ignore\")\n",
    "# targets = targets.reset_index()\n",
    "# df = df.reset_index()\n",
    "X, y = df, targets['Длина.третьего.подфлагового.листа..мм']\n",
    "X = X.dropna()\n",
    "y = y.dropna()\n",
    "X_train, X_test, y_train, y_test = train_test_split(X, y, test_size=0.2, random_state=42)\n",
    "scaler = StandardScaler()\n",
    "X_train = scaler.fit_transform(X_train)\n",
    "X_test = scaler.transform(X_test)\n",
    "use_linear_scaling=True"
   ]
  },
  {
   "cell_type": "code",
   "execution_count": null,
   "outputs": [],
   "source": [
    "gp_forest = Bagging(use_linear_scaling=use_linear_scaling, num_of_trees=1,# linear scaling applies a linear layer to the prediction (intercept + slope*prediction) \n",
    "  evo_kwargs={'verbose': False, 'pop_size': 128, 'max_gens': 10, 'max_tree_size': 300, 'n_jobs': -1, 'parallel_prefer': 'threads'})\n",
    "gp_forest.fit(X, y)\n",
    "test_mse1 = mean_squared_error(y_test, gp_forest.predict(X_test))\n",
    "print(\"FOREST The mean squared error on the test set is {:.3f} (respective R^2 score is {:.3f})\".format(\n",
    "  test_mse1, 1 - test_mse1/np.var(y_train)))"
   ],
   "metadata": {
    "collapsed": false,
    "ExecuteTime": {
     "start_time": "2024-05-26T20:18:38.003421100Z"
    }
   },
   "id": "c6d5d740c5d34f7f"
  },
  {
   "cell_type": "code",
   "execution_count": null,
   "outputs": [],
   "source": [
    "pearson_forest_test = pearsonr(y_test, gp_forest.predict(X_test))\n",
    "pearson_forest_train = pearsonr(y_train, gp_forest.predict(X_train))\n",
    "print(f'train: {pearson_forest_train} test {pearson_forest_test}')"
   ],
   "metadata": {
    "collapsed": false
   },
   "id": "9e73d2fc1b5c2093"
  }
 ],
 "metadata": {
  "kernelspec": {
   "display_name": "Python 3",
   "language": "python",
   "name": "python3"
  },
  "language_info": {
   "codemirror_mode": {
    "name": "ipython",
    "version": 2
   },
   "file_extension": ".py",
   "mimetype": "text/x-python",
   "name": "python",
   "nbconvert_exporter": "python",
   "pygments_lexer": "ipython2",
   "version": "2.7.6"
  }
 },
 "nbformat": 4,
 "nbformat_minor": 5
}
